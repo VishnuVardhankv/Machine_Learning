{
  "nbformat": 4,
  "nbformat_minor": 0,
  "metadata": {
    "colab": {
      "provenance": [],
      "include_colab_link": true
    },
    "kernelspec": {
      "name": "python3",
      "display_name": "Python 3"
    },
    "language_info": {
      "name": "python"
    }
  },
  "cells": [
    {
      "cell_type": "markdown",
      "metadata": {
        "id": "view-in-github",
        "colab_type": "text"
      },
      "source": [
        "<a href=\"https://colab.research.google.com/github/VishnuVardhankv/Machine_Learning/blob/main/ML_Lab3_Ex1.ipynb\" target=\"_parent\"><img src=\"https://colab.research.google.com/assets/colab-badge.svg\" alt=\"Open In Colab\"/></a>"
      ]
    },
    {
      "cell_type": "code",
      "execution_count": 1,
      "metadata": {
        "id": "3tzNv3YlbUca"
      },
      "outputs": [],
      "source": [
        "#1\n",
        "import seaborn as sns\n",
        "import numpy as np\n",
        "import pandas as pd\n",
        "import matplotlib.pyplot as plt\n"
      ]
    },
    {
      "cell_type": "code",
      "source": [
        "#2,3\n",
        "tips=pd.read_csv('https://raw.githubusercontent.com/guipsamora/pandas_exercises/master/07_Visualization/Tips/tips.csv')\n",
        "print(tips)\n"
      ],
      "metadata": {
        "colab": {
          "base_uri": "https://localhost:8080/"
        },
        "id": "3WBRXQxLbhSb",
        "outputId": "7f9bc07f-6ab5-4283-ee7b-9e156881320b"
      },
      "execution_count": 5,
      "outputs": [
        {
          "output_type": "stream",
          "name": "stdout",
          "text": [
            "     Unnamed: 0  total_bill    tip     sex smoker   day    time  size\n",
            "0             0       16.99   1.01  Female     No   Sun  Dinner     2\n",
            "1             1       10.34   1.66    Male     No   Sun  Dinner     3\n",
            "2             2       21.01   3.50    Male     No   Sun  Dinner     3\n",
            "3             3       23.68   3.31    Male     No   Sun  Dinner     2\n",
            "4             4       24.59   3.61  Female     No   Sun  Dinner     4\n",
            "5             5       25.29   4.71    Male     No   Sun  Dinner     4\n",
            "6             6        8.77   2.00    Male     No   Sun  Dinner     2\n",
            "7             7       26.88   3.12    Male     No   Sun  Dinner     4\n",
            "8             8       15.04   1.96    Male     No   Sun  Dinner     2\n",
            "9             9       14.78   3.23    Male     No   Sun  Dinner     2\n",
            "10           10       10.27   1.71    Male     No   Sun  Dinner     2\n",
            "11           11       35.26   5.00  Female     No   Sun  Dinner     4\n",
            "12           12       15.42   1.57    Male     No   Sun  Dinner     2\n",
            "13           13       18.43   3.00    Male     No   Sun  Dinner     4\n",
            "14           14       14.83   3.02  Female     No   Sun  Dinner     2\n",
            "15           15       21.58   3.92    Male     No   Sun  Dinner     2\n",
            "16           16       10.33   1.67  Female     No   Sun  Dinner     3\n",
            "17           17       16.29   3.71    Male     No   Sun  Dinner     3\n",
            "18           18       16.97   3.50  Female     No   Sun  Dinner     3\n",
            "19           19       20.65   3.35    Male     No   Sat  Dinner     3\n",
            "20           20       17.92   4.08    Male     No   Sat  Dinner     2\n",
            "21           21       20.29   2.75  Female     No   Sat  Dinner     2\n",
            "22           22       15.77   2.23  Female     No   Sat  Dinner     2\n",
            "23           23       39.42   7.58    Male     No   Sat  Dinner     4\n",
            "24           24       19.82   3.18    Male     No   Sat  Dinner     2\n",
            "25           25       17.81   2.34    Male     No   Sat  Dinner     4\n",
            "26           26       13.37   2.00    Male     No   Sat  Dinner     2\n",
            "27           27       12.69   2.00    Male     No   Sat  Dinner     2\n",
            "28           28       21.70   4.30    Male     No   Sat  Dinner     2\n",
            "29           29       19.65   3.00  Female     No   Sat  Dinner     2\n",
            "30           30        9.55   1.45    Male     No   Sat  Dinner     2\n",
            "31           31       18.35   2.50    Male     No   Sat  Dinner     4\n",
            "32           32       15.06   3.00  Female     No   Sat  Dinner     2\n",
            "33           33       20.69   2.45  Female     No   Sat  Dinner     4\n",
            "34           34       17.78   3.27    Male     No   Sat  Dinner     2\n",
            "35           35       24.06   3.60    Male     No   Sat  Dinner     3\n",
            "36           36       16.31   2.00    Male     No   Sat  Dinner     3\n",
            "37           37       16.93   3.07  Female     No   Sat  Dinner     3\n",
            "38           38       18.69   2.31    Male     No   Sat  Dinner     3\n",
            "39           39       31.27   5.00    Male     No   Sat  Dinner     3\n",
            "40           40       16.04   2.24    Male     No   Sat  Dinner     3\n",
            "41           41       17.46   2.54    Male     No   Sun  Dinner     2\n",
            "42           42       13.94   3.06    Male     No   Sun  Dinner     2\n",
            "43           43        9.68   1.32    Male     No   Sun  Dinner     2\n",
            "44           44       30.40   5.60    Male     No   Sun  Dinner     4\n",
            "45           45       18.29   3.00    Male     No   Sun  Dinner     2\n",
            "46           46       22.23   5.00    Male     No   Sun  Dinner     2\n",
            "47           47       32.40   6.00    Male     No   Sun  Dinner     4\n",
            "48           48       28.55   2.05    Male     No   Sun  Dinner     3\n",
            "49           49       18.04   3.00    Male     No   Sun  Dinner     2\n",
            "50           50       12.54   2.50    Male     No   Sun  Dinner     2\n",
            "51           51       10.29   2.60  Female     No   Sun  Dinner     2\n",
            "52           52       34.81   5.20  Female     No   Sun  Dinner     4\n",
            "53           53        9.94   1.56    Male     No   Sun  Dinner     2\n",
            "54           54       25.56   4.34    Male     No   Sun  Dinner     4\n",
            "55           55       19.49   3.51    Male     No   Sun  Dinner     2\n",
            "56           56       38.01   3.00    Male    Yes   Sat  Dinner     4\n",
            "57           57       26.41   1.50  Female     No   Sat  Dinner     2\n",
            "58           58       11.24   1.76    Male    Yes   Sat  Dinner     2\n",
            "59           59       48.27   6.73    Male     No   Sat  Dinner     4\n",
            "60           60       20.29   3.21    Male    Yes   Sat  Dinner     2\n",
            "61           61       13.81   2.00    Male    Yes   Sat  Dinner     2\n",
            "62           62       11.02   1.98    Male    Yes   Sat  Dinner     2\n",
            "63           63       18.29   3.76    Male    Yes   Sat  Dinner     4\n",
            "64           64       17.59   2.64    Male     No   Sat  Dinner     3\n",
            "65           65       20.08   3.15    Male     No   Sat  Dinner     3\n",
            "66           66       16.45   2.47  Female     No   Sat  Dinner     2\n",
            "67           67        3.07   1.00  Female    Yes   Sat  Dinner     1\n",
            "68           68       20.23   2.01    Male     No   Sat  Dinner     2\n",
            "69           69       15.01   2.09    Male    Yes   Sat  Dinner     2\n",
            "70           70       12.02   1.97    Male     No   Sat  Dinner     2\n",
            "71           71       17.07   3.00  Female     No   Sat  Dinner     3\n",
            "72           72       26.86   3.14  Female    Yes   Sat  Dinner     2\n",
            "73           73       25.28   5.00  Female    Yes   Sat  Dinner     2\n",
            "74           74       14.73   2.20  Female     No   Sat  Dinner     2\n",
            "75           75       10.51   1.25    Male     No   Sat  Dinner     2\n",
            "76           76       17.92   3.08    Male    Yes   Sat  Dinner     2\n",
            "77           77       27.20   4.00    Male     No  Thur   Lunch     4\n",
            "78           78       22.76   3.00    Male     No  Thur   Lunch     2\n",
            "79           79       17.29   2.71    Male     No  Thur   Lunch     2\n",
            "80           80       19.44   3.00    Male    Yes  Thur   Lunch     2\n",
            "81           81       16.66   3.40    Male     No  Thur   Lunch     2\n",
            "82           82       10.07   1.83  Female     No  Thur   Lunch     1\n",
            "83           83       32.68   5.00    Male    Yes  Thur   Lunch     2\n",
            "84           84       15.98   2.03    Male     No  Thur   Lunch     2\n",
            "85           85       34.83   5.17  Female     No  Thur   Lunch     4\n",
            "86           86       13.03   2.00    Male     No  Thur   Lunch     2\n",
            "87           87       18.28   4.00    Male     No  Thur   Lunch     2\n",
            "88           88       24.71   5.85    Male     No  Thur   Lunch     2\n",
            "89           89       21.16   3.00    Male     No  Thur   Lunch     2\n",
            "90           90       28.97   3.00    Male    Yes   Fri  Dinner     2\n",
            "91           91       22.49   3.50    Male     No   Fri  Dinner     2\n",
            "92           92        5.75   1.00  Female    Yes   Fri  Dinner     2\n",
            "93           93       16.32   4.30  Female    Yes   Fri  Dinner     2\n",
            "94           94       22.75   3.25  Female     No   Fri  Dinner     2\n",
            "95           95       40.17   4.73    Male    Yes   Fri  Dinner     4\n",
            "96           96       27.28   4.00    Male    Yes   Fri  Dinner     2\n",
            "97           97       12.03   1.50    Male    Yes   Fri  Dinner     2\n",
            "98           98       21.01   3.00    Male    Yes   Fri  Dinner     2\n",
            "99           99       12.46   1.50    Male     No   Fri  Dinner     2\n",
            "100         100       11.35   2.50  Female    Yes   Fri  Dinner     2\n",
            "101         101       15.38   3.00  Female    Yes   Fri  Dinner     2\n",
            "102         102       44.30   2.50  Female    Yes   Sat  Dinner     3\n",
            "103         103       22.42   3.48  Female    Yes   Sat  Dinner     2\n",
            "104         104       20.92   4.08  Female     No   Sat  Dinner     2\n",
            "105         105       15.36   1.64    Male    Yes   Sat  Dinner     2\n",
            "106         106       20.49   4.06    Male    Yes   Sat  Dinner     2\n",
            "107         107       25.21   4.29    Male    Yes   Sat  Dinner     2\n",
            "108         108       18.24   3.76    Male     No   Sat  Dinner     2\n",
            "109         109       14.31   4.00  Female    Yes   Sat  Dinner     2\n",
            "110         110       14.00   3.00    Male     No   Sat  Dinner     2\n",
            "111         111        7.25   1.00  Female     No   Sat  Dinner     1\n",
            "112         112       38.07   4.00    Male     No   Sun  Dinner     3\n",
            "113         113       23.95   2.55    Male     No   Sun  Dinner     2\n",
            "114         114       25.71   4.00  Female     No   Sun  Dinner     3\n",
            "115         115       17.31   3.50  Female     No   Sun  Dinner     2\n",
            "116         116       29.93   5.07    Male     No   Sun  Dinner     4\n",
            "117         117       10.65   1.50  Female     No  Thur   Lunch     2\n",
            "118         118       12.43   1.80  Female     No  Thur   Lunch     2\n",
            "119         119       24.08   2.92  Female     No  Thur   Lunch     4\n",
            "120         120       11.69   2.31    Male     No  Thur   Lunch     2\n",
            "121         121       13.42   1.68  Female     No  Thur   Lunch     2\n",
            "122         122       14.26   2.50    Male     No  Thur   Lunch     2\n",
            "123         123       15.95   2.00    Male     No  Thur   Lunch     2\n",
            "124         124       12.48   2.52  Female     No  Thur   Lunch     2\n",
            "125         125       29.80   4.20  Female     No  Thur   Lunch     6\n",
            "126         126        8.52   1.48    Male     No  Thur   Lunch     2\n",
            "127         127       14.52   2.00  Female     No  Thur   Lunch     2\n",
            "128         128       11.38   2.00  Female     No  Thur   Lunch     2\n",
            "129         129       22.82   2.18    Male     No  Thur   Lunch     3\n",
            "130         130       19.08   1.50    Male     No  Thur   Lunch     2\n",
            "131         131       20.27   2.83  Female     No  Thur   Lunch     2\n",
            "132         132       11.17   1.50  Female     No  Thur   Lunch     2\n",
            "133         133       12.26   2.00  Female     No  Thur   Lunch     2\n",
            "134         134       18.26   3.25  Female     No  Thur   Lunch     2\n",
            "135         135        8.51   1.25  Female     No  Thur   Lunch     2\n",
            "136         136       10.33   2.00  Female     No  Thur   Lunch     2\n",
            "137         137       14.15   2.00  Female     No  Thur   Lunch     2\n",
            "138         138       16.00   2.00    Male    Yes  Thur   Lunch     2\n",
            "139         139       13.16   2.75  Female     No  Thur   Lunch     2\n",
            "140         140       17.47   3.50  Female     No  Thur   Lunch     2\n",
            "141         141       34.30   6.70    Male     No  Thur   Lunch     6\n",
            "142         142       41.19   5.00    Male     No  Thur   Lunch     5\n",
            "143         143       27.05   5.00  Female     No  Thur   Lunch     6\n",
            "144         144       16.43   2.30  Female     No  Thur   Lunch     2\n",
            "145         145        8.35   1.50  Female     No  Thur   Lunch     2\n",
            "146         146       18.64   1.36  Female     No  Thur   Lunch     3\n",
            "147         147       11.87   1.63  Female     No  Thur   Lunch     2\n",
            "148         148        9.78   1.73    Male     No  Thur   Lunch     2\n",
            "149         149        7.51   2.00    Male     No  Thur   Lunch     2\n",
            "150         150       14.07   2.50    Male     No   Sun  Dinner     2\n",
            "151         151       13.13   2.00    Male     No   Sun  Dinner     2\n",
            "152         152       17.26   2.74    Male     No   Sun  Dinner     3\n",
            "153         153       24.55   2.00    Male     No   Sun  Dinner     4\n",
            "154         154       19.77   2.00    Male     No   Sun  Dinner     4\n",
            "155         155       29.85   5.14  Female     No   Sun  Dinner     5\n",
            "156         156       48.17   5.00    Male     No   Sun  Dinner     6\n",
            "157         157       25.00   3.75  Female     No   Sun  Dinner     4\n",
            "158         158       13.39   2.61  Female     No   Sun  Dinner     2\n",
            "159         159       16.49   2.00    Male     No   Sun  Dinner     4\n",
            "160         160       21.50   3.50    Male     No   Sun  Dinner     4\n",
            "161         161       12.66   2.50    Male     No   Sun  Dinner     2\n",
            "162         162       16.21   2.00  Female     No   Sun  Dinner     3\n",
            "163         163       13.81   2.00    Male     No   Sun  Dinner     2\n",
            "164         164       17.51   3.00  Female    Yes   Sun  Dinner     2\n",
            "165         165       24.52   3.48    Male     No   Sun  Dinner     3\n",
            "166         166       20.76   2.24    Male     No   Sun  Dinner     2\n",
            "167         167       31.71   4.50    Male     No   Sun  Dinner     4\n",
            "168         168       10.59   1.61  Female    Yes   Sat  Dinner     2\n",
            "169         169       10.63   2.00  Female    Yes   Sat  Dinner     2\n",
            "170         170       50.81  10.00    Male    Yes   Sat  Dinner     3\n",
            "171         171       15.81   3.16    Male    Yes   Sat  Dinner     2\n",
            "172         172        7.25   5.15    Male    Yes   Sun  Dinner     2\n",
            "173         173       31.85   3.18    Male    Yes   Sun  Dinner     2\n",
            "174         174       16.82   4.00    Male    Yes   Sun  Dinner     2\n",
            "175         175       32.90   3.11    Male    Yes   Sun  Dinner     2\n",
            "176         176       17.89   2.00    Male    Yes   Sun  Dinner     2\n",
            "177         177       14.48   2.00    Male    Yes   Sun  Dinner     2\n",
            "178         178        9.60   4.00  Female    Yes   Sun  Dinner     2\n",
            "179         179       34.63   3.55    Male    Yes   Sun  Dinner     2\n",
            "180         180       34.65   3.68    Male    Yes   Sun  Dinner     4\n",
            "181         181       23.33   5.65    Male    Yes   Sun  Dinner     2\n",
            "182         182       45.35   3.50    Male    Yes   Sun  Dinner     3\n",
            "183         183       23.17   6.50    Male    Yes   Sun  Dinner     4\n",
            "184         184       40.55   3.00    Male    Yes   Sun  Dinner     2\n",
            "185         185       20.69   5.00    Male     No   Sun  Dinner     5\n",
            "186         186       20.90   3.50  Female    Yes   Sun  Dinner     3\n",
            "187         187       30.46   2.00    Male    Yes   Sun  Dinner     5\n",
            "188         188       18.15   3.50  Female    Yes   Sun  Dinner     3\n",
            "189         189       23.10   4.00    Male    Yes   Sun  Dinner     3\n",
            "190         190       15.69   1.50    Male    Yes   Sun  Dinner     2\n",
            "191         191       19.81   4.19  Female    Yes  Thur   Lunch     2\n",
            "192         192       28.44   2.56    Male    Yes  Thur   Lunch     2\n",
            "193         193       15.48   2.02    Male    Yes  Thur   Lunch     2\n",
            "194         194       16.58   4.00    Male    Yes  Thur   Lunch     2\n",
            "195         195        7.56   1.44    Male     No  Thur   Lunch     2\n",
            "196         196       10.34   2.00    Male    Yes  Thur   Lunch     2\n",
            "197         197       43.11   5.00  Female    Yes  Thur   Lunch     4\n",
            "198         198       13.00   2.00  Female    Yes  Thur   Lunch     2\n",
            "199         199       13.51   2.00    Male    Yes  Thur   Lunch     2\n",
            "200         200       18.71   4.00    Male    Yes  Thur   Lunch     3\n",
            "201         201       12.74   2.01  Female    Yes  Thur   Lunch     2\n",
            "202         202       13.00   2.00  Female    Yes  Thur   Lunch     2\n",
            "203         203       16.40   2.50  Female    Yes  Thur   Lunch     2\n",
            "204         204       20.53   4.00    Male    Yes  Thur   Lunch     4\n",
            "205         205       16.47   3.23  Female    Yes  Thur   Lunch     3\n",
            "206         206       26.59   3.41    Male    Yes   Sat  Dinner     3\n",
            "207         207       38.73   3.00    Male    Yes   Sat  Dinner     4\n",
            "208         208       24.27   2.03    Male    Yes   Sat  Dinner     2\n",
            "209         209       12.76   2.23  Female    Yes   Sat  Dinner     2\n",
            "210         210       30.06   2.00    Male    Yes   Sat  Dinner     3\n",
            "211         211       25.89   5.16    Male    Yes   Sat  Dinner     4\n",
            "212         212       48.33   9.00    Male     No   Sat  Dinner     4\n",
            "213         213       13.27   2.50  Female    Yes   Sat  Dinner     2\n",
            "214         214       28.17   6.50  Female    Yes   Sat  Dinner     3\n",
            "215         215       12.90   1.10  Female    Yes   Sat  Dinner     2\n",
            "216         216       28.15   3.00    Male    Yes   Sat  Dinner     5\n",
            "217         217       11.59   1.50    Male    Yes   Sat  Dinner     2\n",
            "218         218        7.74   1.44    Male    Yes   Sat  Dinner     2\n",
            "219         219       30.14   3.09  Female    Yes   Sat  Dinner     4\n",
            "220         220       12.16   2.20    Male    Yes   Fri   Lunch     2\n",
            "221         221       13.42   3.48  Female    Yes   Fri   Lunch     2\n",
            "222         222        8.58   1.92    Male    Yes   Fri   Lunch     1\n",
            "223         223       15.98   3.00  Female     No   Fri   Lunch     3\n",
            "224         224       13.42   1.58    Male    Yes   Fri   Lunch     2\n",
            "225         225       16.27   2.50  Female    Yes   Fri   Lunch     2\n",
            "226         226       10.09   2.00  Female    Yes   Fri   Lunch     2\n",
            "227         227       20.45   3.00    Male     No   Sat  Dinner     4\n",
            "228         228       13.28   2.72    Male     No   Sat  Dinner     2\n",
            "229         229       22.12   2.88  Female    Yes   Sat  Dinner     2\n",
            "230         230       24.01   2.00    Male    Yes   Sat  Dinner     4\n",
            "231         231       15.69   3.00    Male    Yes   Sat  Dinner     3\n",
            "232         232       11.61   3.39    Male     No   Sat  Dinner     2\n",
            "233         233       10.77   1.47    Male     No   Sat  Dinner     2\n",
            "234         234       15.53   3.00    Male    Yes   Sat  Dinner     2\n",
            "235         235       10.07   1.25    Male     No   Sat  Dinner     2\n",
            "236         236       12.60   1.00    Male    Yes   Sat  Dinner     2\n",
            "237         237       32.83   1.17    Male    Yes   Sat  Dinner     2\n",
            "238         238       35.83   4.67  Female     No   Sat  Dinner     3\n",
            "239         239       29.03   5.92    Male     No   Sat  Dinner     3\n",
            "240         240       27.18   2.00  Female    Yes   Sat  Dinner     2\n",
            "241         241       22.67   2.00    Male    Yes   Sat  Dinner     2\n",
            "242         242       17.82   1.75    Male     No   Sat  Dinner     2\n",
            "243         243       18.78   3.00  Female     No  Thur  Dinner     2\n"
          ]
        }
      ]
    },
    {
      "cell_type": "code",
      "source": [
        "#4\n",
        "del tips['Unnamed: 0']\n",
        "print(tips)"
      ],
      "metadata": {
        "colab": {
          "base_uri": "https://localhost:8080/"
        },
        "id": "DfH4fp9ubjs-",
        "outputId": "d6eadf62-9bf5-49b2-aef1-a4d2225c6b1b"
      },
      "execution_count": 6,
      "outputs": [
        {
          "output_type": "stream",
          "name": "stdout",
          "text": [
            "     total_bill    tip     sex smoker   day    time  size\n",
            "0         16.99   1.01  Female     No   Sun  Dinner     2\n",
            "1         10.34   1.66    Male     No   Sun  Dinner     3\n",
            "2         21.01   3.50    Male     No   Sun  Dinner     3\n",
            "3         23.68   3.31    Male     No   Sun  Dinner     2\n",
            "4         24.59   3.61  Female     No   Sun  Dinner     4\n",
            "5         25.29   4.71    Male     No   Sun  Dinner     4\n",
            "6          8.77   2.00    Male     No   Sun  Dinner     2\n",
            "7         26.88   3.12    Male     No   Sun  Dinner     4\n",
            "8         15.04   1.96    Male     No   Sun  Dinner     2\n",
            "9         14.78   3.23    Male     No   Sun  Dinner     2\n",
            "10        10.27   1.71    Male     No   Sun  Dinner     2\n",
            "11        35.26   5.00  Female     No   Sun  Dinner     4\n",
            "12        15.42   1.57    Male     No   Sun  Dinner     2\n",
            "13        18.43   3.00    Male     No   Sun  Dinner     4\n",
            "14        14.83   3.02  Female     No   Sun  Dinner     2\n",
            "15        21.58   3.92    Male     No   Sun  Dinner     2\n",
            "16        10.33   1.67  Female     No   Sun  Dinner     3\n",
            "17        16.29   3.71    Male     No   Sun  Dinner     3\n",
            "18        16.97   3.50  Female     No   Sun  Dinner     3\n",
            "19        20.65   3.35    Male     No   Sat  Dinner     3\n",
            "20        17.92   4.08    Male     No   Sat  Dinner     2\n",
            "21        20.29   2.75  Female     No   Sat  Dinner     2\n",
            "22        15.77   2.23  Female     No   Sat  Dinner     2\n",
            "23        39.42   7.58    Male     No   Sat  Dinner     4\n",
            "24        19.82   3.18    Male     No   Sat  Dinner     2\n",
            "25        17.81   2.34    Male     No   Sat  Dinner     4\n",
            "26        13.37   2.00    Male     No   Sat  Dinner     2\n",
            "27        12.69   2.00    Male     No   Sat  Dinner     2\n",
            "28        21.70   4.30    Male     No   Sat  Dinner     2\n",
            "29        19.65   3.00  Female     No   Sat  Dinner     2\n",
            "30         9.55   1.45    Male     No   Sat  Dinner     2\n",
            "31        18.35   2.50    Male     No   Sat  Dinner     4\n",
            "32        15.06   3.00  Female     No   Sat  Dinner     2\n",
            "33        20.69   2.45  Female     No   Sat  Dinner     4\n",
            "34        17.78   3.27    Male     No   Sat  Dinner     2\n",
            "35        24.06   3.60    Male     No   Sat  Dinner     3\n",
            "36        16.31   2.00    Male     No   Sat  Dinner     3\n",
            "37        16.93   3.07  Female     No   Sat  Dinner     3\n",
            "38        18.69   2.31    Male     No   Sat  Dinner     3\n",
            "39        31.27   5.00    Male     No   Sat  Dinner     3\n",
            "40        16.04   2.24    Male     No   Sat  Dinner     3\n",
            "41        17.46   2.54    Male     No   Sun  Dinner     2\n",
            "42        13.94   3.06    Male     No   Sun  Dinner     2\n",
            "43         9.68   1.32    Male     No   Sun  Dinner     2\n",
            "44        30.40   5.60    Male     No   Sun  Dinner     4\n",
            "45        18.29   3.00    Male     No   Sun  Dinner     2\n",
            "46        22.23   5.00    Male     No   Sun  Dinner     2\n",
            "47        32.40   6.00    Male     No   Sun  Dinner     4\n",
            "48        28.55   2.05    Male     No   Sun  Dinner     3\n",
            "49        18.04   3.00    Male     No   Sun  Dinner     2\n",
            "50        12.54   2.50    Male     No   Sun  Dinner     2\n",
            "51        10.29   2.60  Female     No   Sun  Dinner     2\n",
            "52        34.81   5.20  Female     No   Sun  Dinner     4\n",
            "53         9.94   1.56    Male     No   Sun  Dinner     2\n",
            "54        25.56   4.34    Male     No   Sun  Dinner     4\n",
            "55        19.49   3.51    Male     No   Sun  Dinner     2\n",
            "56        38.01   3.00    Male    Yes   Sat  Dinner     4\n",
            "57        26.41   1.50  Female     No   Sat  Dinner     2\n",
            "58        11.24   1.76    Male    Yes   Sat  Dinner     2\n",
            "59        48.27   6.73    Male     No   Sat  Dinner     4\n",
            "60        20.29   3.21    Male    Yes   Sat  Dinner     2\n",
            "61        13.81   2.00    Male    Yes   Sat  Dinner     2\n",
            "62        11.02   1.98    Male    Yes   Sat  Dinner     2\n",
            "63        18.29   3.76    Male    Yes   Sat  Dinner     4\n",
            "64        17.59   2.64    Male     No   Sat  Dinner     3\n",
            "65        20.08   3.15    Male     No   Sat  Dinner     3\n",
            "66        16.45   2.47  Female     No   Sat  Dinner     2\n",
            "67         3.07   1.00  Female    Yes   Sat  Dinner     1\n",
            "68        20.23   2.01    Male     No   Sat  Dinner     2\n",
            "69        15.01   2.09    Male    Yes   Sat  Dinner     2\n",
            "70        12.02   1.97    Male     No   Sat  Dinner     2\n",
            "71        17.07   3.00  Female     No   Sat  Dinner     3\n",
            "72        26.86   3.14  Female    Yes   Sat  Dinner     2\n",
            "73        25.28   5.00  Female    Yes   Sat  Dinner     2\n",
            "74        14.73   2.20  Female     No   Sat  Dinner     2\n",
            "75        10.51   1.25    Male     No   Sat  Dinner     2\n",
            "76        17.92   3.08    Male    Yes   Sat  Dinner     2\n",
            "77        27.20   4.00    Male     No  Thur   Lunch     4\n",
            "78        22.76   3.00    Male     No  Thur   Lunch     2\n",
            "79        17.29   2.71    Male     No  Thur   Lunch     2\n",
            "80        19.44   3.00    Male    Yes  Thur   Lunch     2\n",
            "81        16.66   3.40    Male     No  Thur   Lunch     2\n",
            "82        10.07   1.83  Female     No  Thur   Lunch     1\n",
            "83        32.68   5.00    Male    Yes  Thur   Lunch     2\n",
            "84        15.98   2.03    Male     No  Thur   Lunch     2\n",
            "85        34.83   5.17  Female     No  Thur   Lunch     4\n",
            "86        13.03   2.00    Male     No  Thur   Lunch     2\n",
            "87        18.28   4.00    Male     No  Thur   Lunch     2\n",
            "88        24.71   5.85    Male     No  Thur   Lunch     2\n",
            "89        21.16   3.00    Male     No  Thur   Lunch     2\n",
            "90        28.97   3.00    Male    Yes   Fri  Dinner     2\n",
            "91        22.49   3.50    Male     No   Fri  Dinner     2\n",
            "92         5.75   1.00  Female    Yes   Fri  Dinner     2\n",
            "93        16.32   4.30  Female    Yes   Fri  Dinner     2\n",
            "94        22.75   3.25  Female     No   Fri  Dinner     2\n",
            "95        40.17   4.73    Male    Yes   Fri  Dinner     4\n",
            "96        27.28   4.00    Male    Yes   Fri  Dinner     2\n",
            "97        12.03   1.50    Male    Yes   Fri  Dinner     2\n",
            "98        21.01   3.00    Male    Yes   Fri  Dinner     2\n",
            "99        12.46   1.50    Male     No   Fri  Dinner     2\n",
            "100       11.35   2.50  Female    Yes   Fri  Dinner     2\n",
            "101       15.38   3.00  Female    Yes   Fri  Dinner     2\n",
            "102       44.30   2.50  Female    Yes   Sat  Dinner     3\n",
            "103       22.42   3.48  Female    Yes   Sat  Dinner     2\n",
            "104       20.92   4.08  Female     No   Sat  Dinner     2\n",
            "105       15.36   1.64    Male    Yes   Sat  Dinner     2\n",
            "106       20.49   4.06    Male    Yes   Sat  Dinner     2\n",
            "107       25.21   4.29    Male    Yes   Sat  Dinner     2\n",
            "108       18.24   3.76    Male     No   Sat  Dinner     2\n",
            "109       14.31   4.00  Female    Yes   Sat  Dinner     2\n",
            "110       14.00   3.00    Male     No   Sat  Dinner     2\n",
            "111        7.25   1.00  Female     No   Sat  Dinner     1\n",
            "112       38.07   4.00    Male     No   Sun  Dinner     3\n",
            "113       23.95   2.55    Male     No   Sun  Dinner     2\n",
            "114       25.71   4.00  Female     No   Sun  Dinner     3\n",
            "115       17.31   3.50  Female     No   Sun  Dinner     2\n",
            "116       29.93   5.07    Male     No   Sun  Dinner     4\n",
            "117       10.65   1.50  Female     No  Thur   Lunch     2\n",
            "118       12.43   1.80  Female     No  Thur   Lunch     2\n",
            "119       24.08   2.92  Female     No  Thur   Lunch     4\n",
            "120       11.69   2.31    Male     No  Thur   Lunch     2\n",
            "121       13.42   1.68  Female     No  Thur   Lunch     2\n",
            "122       14.26   2.50    Male     No  Thur   Lunch     2\n",
            "123       15.95   2.00    Male     No  Thur   Lunch     2\n",
            "124       12.48   2.52  Female     No  Thur   Lunch     2\n",
            "125       29.80   4.20  Female     No  Thur   Lunch     6\n",
            "126        8.52   1.48    Male     No  Thur   Lunch     2\n",
            "127       14.52   2.00  Female     No  Thur   Lunch     2\n",
            "128       11.38   2.00  Female     No  Thur   Lunch     2\n",
            "129       22.82   2.18    Male     No  Thur   Lunch     3\n",
            "130       19.08   1.50    Male     No  Thur   Lunch     2\n",
            "131       20.27   2.83  Female     No  Thur   Lunch     2\n",
            "132       11.17   1.50  Female     No  Thur   Lunch     2\n",
            "133       12.26   2.00  Female     No  Thur   Lunch     2\n",
            "134       18.26   3.25  Female     No  Thur   Lunch     2\n",
            "135        8.51   1.25  Female     No  Thur   Lunch     2\n",
            "136       10.33   2.00  Female     No  Thur   Lunch     2\n",
            "137       14.15   2.00  Female     No  Thur   Lunch     2\n",
            "138       16.00   2.00    Male    Yes  Thur   Lunch     2\n",
            "139       13.16   2.75  Female     No  Thur   Lunch     2\n",
            "140       17.47   3.50  Female     No  Thur   Lunch     2\n",
            "141       34.30   6.70    Male     No  Thur   Lunch     6\n",
            "142       41.19   5.00    Male     No  Thur   Lunch     5\n",
            "143       27.05   5.00  Female     No  Thur   Lunch     6\n",
            "144       16.43   2.30  Female     No  Thur   Lunch     2\n",
            "145        8.35   1.50  Female     No  Thur   Lunch     2\n",
            "146       18.64   1.36  Female     No  Thur   Lunch     3\n",
            "147       11.87   1.63  Female     No  Thur   Lunch     2\n",
            "148        9.78   1.73    Male     No  Thur   Lunch     2\n",
            "149        7.51   2.00    Male     No  Thur   Lunch     2\n",
            "150       14.07   2.50    Male     No   Sun  Dinner     2\n",
            "151       13.13   2.00    Male     No   Sun  Dinner     2\n",
            "152       17.26   2.74    Male     No   Sun  Dinner     3\n",
            "153       24.55   2.00    Male     No   Sun  Dinner     4\n",
            "154       19.77   2.00    Male     No   Sun  Dinner     4\n",
            "155       29.85   5.14  Female     No   Sun  Dinner     5\n",
            "156       48.17   5.00    Male     No   Sun  Dinner     6\n",
            "157       25.00   3.75  Female     No   Sun  Dinner     4\n",
            "158       13.39   2.61  Female     No   Sun  Dinner     2\n",
            "159       16.49   2.00    Male     No   Sun  Dinner     4\n",
            "160       21.50   3.50    Male     No   Sun  Dinner     4\n",
            "161       12.66   2.50    Male     No   Sun  Dinner     2\n",
            "162       16.21   2.00  Female     No   Sun  Dinner     3\n",
            "163       13.81   2.00    Male     No   Sun  Dinner     2\n",
            "164       17.51   3.00  Female    Yes   Sun  Dinner     2\n",
            "165       24.52   3.48    Male     No   Sun  Dinner     3\n",
            "166       20.76   2.24    Male     No   Sun  Dinner     2\n",
            "167       31.71   4.50    Male     No   Sun  Dinner     4\n",
            "168       10.59   1.61  Female    Yes   Sat  Dinner     2\n",
            "169       10.63   2.00  Female    Yes   Sat  Dinner     2\n",
            "170       50.81  10.00    Male    Yes   Sat  Dinner     3\n",
            "171       15.81   3.16    Male    Yes   Sat  Dinner     2\n",
            "172        7.25   5.15    Male    Yes   Sun  Dinner     2\n",
            "173       31.85   3.18    Male    Yes   Sun  Dinner     2\n",
            "174       16.82   4.00    Male    Yes   Sun  Dinner     2\n",
            "175       32.90   3.11    Male    Yes   Sun  Dinner     2\n",
            "176       17.89   2.00    Male    Yes   Sun  Dinner     2\n",
            "177       14.48   2.00    Male    Yes   Sun  Dinner     2\n",
            "178        9.60   4.00  Female    Yes   Sun  Dinner     2\n",
            "179       34.63   3.55    Male    Yes   Sun  Dinner     2\n",
            "180       34.65   3.68    Male    Yes   Sun  Dinner     4\n",
            "181       23.33   5.65    Male    Yes   Sun  Dinner     2\n",
            "182       45.35   3.50    Male    Yes   Sun  Dinner     3\n",
            "183       23.17   6.50    Male    Yes   Sun  Dinner     4\n",
            "184       40.55   3.00    Male    Yes   Sun  Dinner     2\n",
            "185       20.69   5.00    Male     No   Sun  Dinner     5\n",
            "186       20.90   3.50  Female    Yes   Sun  Dinner     3\n",
            "187       30.46   2.00    Male    Yes   Sun  Dinner     5\n",
            "188       18.15   3.50  Female    Yes   Sun  Dinner     3\n",
            "189       23.10   4.00    Male    Yes   Sun  Dinner     3\n",
            "190       15.69   1.50    Male    Yes   Sun  Dinner     2\n",
            "191       19.81   4.19  Female    Yes  Thur   Lunch     2\n",
            "192       28.44   2.56    Male    Yes  Thur   Lunch     2\n",
            "193       15.48   2.02    Male    Yes  Thur   Lunch     2\n",
            "194       16.58   4.00    Male    Yes  Thur   Lunch     2\n",
            "195        7.56   1.44    Male     No  Thur   Lunch     2\n",
            "196       10.34   2.00    Male    Yes  Thur   Lunch     2\n",
            "197       43.11   5.00  Female    Yes  Thur   Lunch     4\n",
            "198       13.00   2.00  Female    Yes  Thur   Lunch     2\n",
            "199       13.51   2.00    Male    Yes  Thur   Lunch     2\n",
            "200       18.71   4.00    Male    Yes  Thur   Lunch     3\n",
            "201       12.74   2.01  Female    Yes  Thur   Lunch     2\n",
            "202       13.00   2.00  Female    Yes  Thur   Lunch     2\n",
            "203       16.40   2.50  Female    Yes  Thur   Lunch     2\n",
            "204       20.53   4.00    Male    Yes  Thur   Lunch     4\n",
            "205       16.47   3.23  Female    Yes  Thur   Lunch     3\n",
            "206       26.59   3.41    Male    Yes   Sat  Dinner     3\n",
            "207       38.73   3.00    Male    Yes   Sat  Dinner     4\n",
            "208       24.27   2.03    Male    Yes   Sat  Dinner     2\n",
            "209       12.76   2.23  Female    Yes   Sat  Dinner     2\n",
            "210       30.06   2.00    Male    Yes   Sat  Dinner     3\n",
            "211       25.89   5.16    Male    Yes   Sat  Dinner     4\n",
            "212       48.33   9.00    Male     No   Sat  Dinner     4\n",
            "213       13.27   2.50  Female    Yes   Sat  Dinner     2\n",
            "214       28.17   6.50  Female    Yes   Sat  Dinner     3\n",
            "215       12.90   1.10  Female    Yes   Sat  Dinner     2\n",
            "216       28.15   3.00    Male    Yes   Sat  Dinner     5\n",
            "217       11.59   1.50    Male    Yes   Sat  Dinner     2\n",
            "218        7.74   1.44    Male    Yes   Sat  Dinner     2\n",
            "219       30.14   3.09  Female    Yes   Sat  Dinner     4\n",
            "220       12.16   2.20    Male    Yes   Fri   Lunch     2\n",
            "221       13.42   3.48  Female    Yes   Fri   Lunch     2\n",
            "222        8.58   1.92    Male    Yes   Fri   Lunch     1\n",
            "223       15.98   3.00  Female     No   Fri   Lunch     3\n",
            "224       13.42   1.58    Male    Yes   Fri   Lunch     2\n",
            "225       16.27   2.50  Female    Yes   Fri   Lunch     2\n",
            "226       10.09   2.00  Female    Yes   Fri   Lunch     2\n",
            "227       20.45   3.00    Male     No   Sat  Dinner     4\n",
            "228       13.28   2.72    Male     No   Sat  Dinner     2\n",
            "229       22.12   2.88  Female    Yes   Sat  Dinner     2\n",
            "230       24.01   2.00    Male    Yes   Sat  Dinner     4\n",
            "231       15.69   3.00    Male    Yes   Sat  Dinner     3\n",
            "232       11.61   3.39    Male     No   Sat  Dinner     2\n",
            "233       10.77   1.47    Male     No   Sat  Dinner     2\n",
            "234       15.53   3.00    Male    Yes   Sat  Dinner     2\n",
            "235       10.07   1.25    Male     No   Sat  Dinner     2\n",
            "236       12.60   1.00    Male    Yes   Sat  Dinner     2\n",
            "237       32.83   1.17    Male    Yes   Sat  Dinner     2\n",
            "238       35.83   4.67  Female     No   Sat  Dinner     3\n",
            "239       29.03   5.92    Male     No   Sat  Dinner     3\n",
            "240       27.18   2.00  Female    Yes   Sat  Dinner     2\n",
            "241       22.67   2.00    Male    Yes   Sat  Dinner     2\n",
            "242       17.82   1.75    Male     No   Sat  Dinner     2\n",
            "243       18.78   3.00  Female     No  Thur  Dinner     2\n"
          ]
        }
      ]
    },
    {
      "cell_type": "code",
      "source": [
        "#5\n",
        "t=tips['total_bill']\n",
        "plt.hist(t,color='orange')\n",
        "plt.show()"
      ],
      "metadata": {
        "colab": {
          "base_uri": "https://localhost:8080/",
          "height": 265
        },
        "id": "-9K1jXWNboV4",
        "outputId": "75561ef6-0e67-4b15-91d3-c0080bbcaac7"
      },
      "execution_count": 9,
      "outputs": [
        {
          "output_type": "display_data",
          "data": {
            "text/plain": [
              "<Figure size 432x288 with 1 Axes>"
            ],
            "image/png": "[encoded data removed]"
          },
          "metadata": {
            "needs_background": "light"
          }
        }
      ]
    },
    {
      "cell_type": "code",
      "source": [
        "#6\n",
        "a=np.array(tips['total_bill'])\n",
        "b=np.array(tips['tip'])\n",
        "plt.scatter(a,b)\n",
        "plt.show()"
      ],
      "metadata": {
        "colab": {
          "base_uri": "https://localhost:8080/",
          "height": 265
        },
        "id": "WysxlqkBbr8P",
        "outputId": "cd67a6ec-b987-4974-9158-a718d77d0ec7"
      },
      "execution_count": 10,
      "outputs": [
        {
          "output_type": "display_data",
          "data": {
            "text/plain": [
              "<Figure size 432x288 with 1 Axes>"
            ],
            "image/png": "[encoded data removed]"
          },
          "metadata": {
            "needs_background": "light"
          }
        }
      ]
    },
    {
      "cell_type": "code",
      "source": [
        "#7\n",
        "t = tips.corr()\n",
        "sns.heatmap(t)\n",
        "plt.show()"
      ],
      "metadata": {
        "colab": {
          "base_uri": "https://localhost:8080/",
          "height": 270
        },
        "id": "O0o7gSJfbvJq",
        "outputId": "f7ced90f-f7e1-4079-fb39-e19c5750a9ea"
      },
      "execution_count": 11,
      "outputs": [
        {
          "output_type": "display_data",
          "data": {
            "text/plain": [
              "<Figure size 432x288 with 2 Axes>"
            ],
            "image/png": "[encoded data removed]"
          },
          "metadata": {
            "needs_background": "light"
          }
        }
      ]
    },
    {
      "cell_type": "code",
      "source": [
        "#8\n",
        "sns.barplot(y='total_bill', x='day', data=tips)\n",
        "plt.show()"
      ],
      "metadata": {
        "colab": {
          "base_uri": "https://localhost:8080/",
          "height": 279
        },
        "id": "-l52XtEybyYw",
        "outputId": "684fc0e9-da03-4ffb-dd83-8a747e067827"
      },
      "execution_count": 12,
      "outputs": [
        {
          "output_type": "display_data",
          "data": {
            "text/plain": [
              "<Figure size 432x288 with 1 Axes>"
            ],
            "image/png": "[encoded data removed]"
          },
          "metadata": {
            "needs_background": "light"
          }
        }
      ]
    },
    {
      "cell_type": "code",
      "source": [
        "#9\n",
        "sns.scatterplot(y='day',x='tip',hue='sex',data=tips)"
      ],
      "metadata": {
        "colab": {
          "base_uri": "https://localhost:8080/",
          "height": 296
        },
        "id": "6Y68bH2Db2LH",
        "outputId": "4aed432b-b151-47a8-b42f-55556716031c"
      },
      "execution_count": 13,
      "outputs": [
        {
          "output_type": "execute_result",
          "data": {
            "text/plain": [
              "<matplotlib.axes._subplots.AxesSubplot at 0x7f6d40dd2fa0>"
            ]
          },
          "metadata": {},
          "execution_count": 13
        },
        {
          "output_type": "display_data",
          "data": {
            "text/plain": [
              "<Figure size 432x288 with 1 Axes>"
            ],
            "image/png": "[encoded data removed]"
          },
          "metadata": {
            "needs_background": "light"
          }
        }
      ]
    },
    {
      "cell_type": "code",
      "source": [
        "#10\n",
        "sns.boxplot(x='total_bill', y='day', data=tips,hue='time')\n",
        "plt.show()"
      ],
      "metadata": {
        "colab": {
          "base_uri": "https://localhost:8080/",
          "height": 280
        },
        "id": "Tqh_J4i0b5Iu",
        "outputId": "020f77b9-5627-437b-a992-21edd5750e5a"
      },
      "execution_count": 14,
      "outputs": [
        {
          "output_type": "display_data",
          "data": {
            "text/plain": [
              "<Figure size 432x288 with 1 Axes>"
            ],
            "image/png": "[encoded data removed]"
          },
          "metadata": {
            "needs_background": "light"
          }
        }
      ]
    },
    {
      "cell_type": "code",
      "source": [
        "#11\n",
        "h = sns.FacetGrid(tips, col=\"time\")\n",
        "h.map(sns.histplot, \"tip\")"
      ],
      "metadata": {
        "colab": {
          "base_uri": "https://localhost:8080/",
          "height": 242
        },
        "id": "JXmy8Duab8qg",
        "outputId": "178e266d-9991-4723-b5b9-e6d955de0894"
      },
      "execution_count": 15,
      "outputs": [
        {
          "output_type": "execute_result",
          "data": {
            "text/plain": [
              "<seaborn.axisgrid.FacetGrid at 0x7f6d40c00970>"
            ]
          },
          "metadata": {},
          "execution_count": 15
        },
        {
          "output_type": "display_data",
          "data": {
            "text/plain": [
              "<Figure size 432x216 with 2 Axes>"
            ],
            "image/png": "[encoded data removed]"
          },
          "metadata": {
            "needs_background": "light"
          }
        }
      ]
    },
    {
      "cell_type": "code",
      "source": [
        "#12\n",
        "sc = sns.FacetGrid(tips, col=\"sex\", hue=\"smoker\")\n",
        "sc.map(sns.scatterplot, \"total_bill\", \"tip\")\n",
        "sc.add_legend()"
      ],
      "metadata": {
        "id": "_sZkWy-CcAw3",
        "outputId": "c6c96b6a-a041-4d23-99d2-d194f508fbb8",
        "colab": {
          "base_uri": "https://localhost:8080/",
          "height": 242
        }
      },
      "execution_count": 16,
      "outputs": [
        {
          "output_type": "execute_result",
          "data": {
            "text/plain": [
              "<seaborn.axisgrid.FacetGrid at 0x7f6d40dde3d0>"
            ]
          },
          "metadata": {},
          "execution_count": 16
        },
        {
          "output_type": "display_data",
          "data": {
            "text/plain": [
              "<Figure size 484x216 with 2 Axes>"
            ],
            "image/png": "[encoded data removed]"
          },
          "metadata": {
            "needs_background": "light"
          }
        }
      ]
    }
  ]
}